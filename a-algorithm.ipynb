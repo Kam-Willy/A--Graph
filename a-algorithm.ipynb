{
 "cells": [
  {
   "cell_type": "markdown",
   "id": "1a45a7f5",
   "metadata": {
    "papermill": {
     "duration": 0.003126,
     "end_time": "2024-11-14T06:53:06.621108",
     "exception": false,
     "start_time": "2024-11-14T06:53:06.617982",
     "status": "completed"
    },
    "tags": []
   },
   "source": [
    "# A* For Graph\n",
    "\n",
    "- Let's say that you have to get through an enormous maze. This maze is so big that it would take hours to find\n",
    "  the goal manually\n",
    "- A set of all states we might end up in\n",
    "- The start and finish state\n",
    "- A finish check (a way to check if we're at the finished state)\n",
    "- A set of possible actions (in this case, different directions of movement)\n",
    "- A traversal function (a function that will tell us where we'll end up if we go a certain direction)\n",
    "- A set of movement costs from state-to-state (which correspond to the edges in the graph)\n",
    "- A set of all states we might end up in\n",
    "- A* is based on using heuristic methods to achieve optimality and completeness, and is a variant of\n",
    "  the best-first algorithm.\n",
    "- Each time A* enters a state, it calculates the cost, f(n) (n being the neighboring node), to\n",
    " travel to all the neighboring nodes, and then enters the node with the lowest value of f(n).\n",
    "\n",
    "- These values are calculated with the following formula:\n",
    "  f(n) = g(n) + h(n)\n",
    "- g(n) being the value of the shortest path from the start node to node n, and h(n) being a heuristic\n",
    "- approximation of the node's value.\n",
    "- For us to be able to reconstruct any path, we need to mark every node with the relative that has\n",
    "- the optimal f(n) value."
   ]
  },
  {
   "cell_type": "code",
   "execution_count": 1,
   "id": "2aae0198",
   "metadata": {
    "execution": {
     "iopub.execute_input": "2024-11-14T06:53:06.628261Z",
     "iopub.status.busy": "2024-11-14T06:53:06.627846Z",
     "iopub.status.idle": "2024-11-14T06:53:06.639170Z",
     "shell.execute_reply": "2024-11-14T06:53:06.638269Z"
    },
    "papermill": {
     "duration": 0.017876,
     "end_time": "2024-11-14T06:53:06.641747",
     "exception": false,
     "start_time": "2024-11-14T06:53:06.623871",
     "status": "completed"
    },
    "tags": []
   },
   "outputs": [],
   "source": [
    "from collections import defaultdict\n",
    "import heapq"
   ]
  },
  {
   "cell_type": "code",
   "execution_count": 2,
   "id": "1465d321",
   "metadata": {
    "execution": {
     "iopub.execute_input": "2024-11-14T06:53:06.649067Z",
     "iopub.status.busy": "2024-11-14T06:53:06.648657Z",
     "iopub.status.idle": "2024-11-14T06:53:06.663922Z",
     "shell.execute_reply": "2024-11-14T06:53:06.662860Z"
    },
    "papermill": {
     "duration": 0.021586,
     "end_time": "2024-11-14T06:53:06.666319",
     "exception": false,
     "start_time": "2024-11-14T06:53:06.644733",
     "status": "completed"
    },
    "tags": []
   },
   "outputs": [],
   "source": [
    "class Graph:\n",
    "    def __init__(self, adjacency_list, heuristic):\n",
    "        self.adjacency_list = adjacency_list\n",
    "        self.heuristic = heuristic\n",
    "\n",
    "    def get_neighbors(self, node):\n",
    "        \"\"\"Returns the neighbors and edge weights for a given node.\"\"\"\n",
    "        return self.adjacency_list.get(node, [])\n",
    "\n",
    "    def h(self, node):\n",
    "        \"\"\"Returns the heuristic value for a given node.\"\"\"\n",
    "        return self.heuristic.get(node, float('inf'))\n",
    "\n",
    "    def a_star(self, start, goal):\n",
    "        \"\"\"Performs A* search from start to goal in a weighted graph.\"\"\"\n",
    "        \n",
    "        # Priority queue with (f_score, node) pairs; f_score = g + h\n",
    "        open_set = []\n",
    "        heapq.heappush(open_set, (0 + self.h(start), start))\n",
    "        \n",
    "        # Initialize g_scores with infinity; start node has 0 cost\n",
    "        g_score = defaultdict(lambda: float('inf'))\n",
    "        g_score[start] = 0\n",
    "\n",
    "        # Parent map for path reconstruction\n",
    "        parents = {start: None}\n",
    "\n",
    "        while open_set:\n",
    "            # Pop the node with the lowest f_score\n",
    "            current_f, current = heapq.heappop(open_set)\n",
    "\n",
    "            # Check if we reached the goal\n",
    "            if current == goal:\n",
    "                path = self.reconstruct_path(parents, start, goal)\n",
    "                print(f\"Path found: {path} with total cost: {g_score[goal]}\")\n",
    "                return path, g_score[goal]\n",
    "\n",
    "            # Explore neighbors\n",
    "            for neighbor, weight in self.get_neighbors(current):\n",
    "                tentative_g_score = g_score[current] + weight\n",
    "\n",
    "                if tentative_g_score < g_score[neighbor]:\n",
    "                    # Update the best path to neighbor\n",
    "                    parents[neighbor] = current\n",
    "                    g_score[neighbor] = tentative_g_score\n",
    "                    f_score = tentative_g_score + self.h(neighbor)\n",
    "                    heapq.heappush(open_set, (f_score, neighbor))\n",
    "\n",
    "        print(\"Path does not exist!\")\n",
    "        return None, None\n",
    "\n",
    "    def reconstruct_path(self, parents, start, goal):\n",
    "        \"\"\"Reconstructs path from start to goal using the parents map.\"\"\"\n",
    "        path = []\n",
    "        current = goal\n",
    "        while current is not None:\n",
    "            path.append(current)\n",
    "            current = parents[current]\n",
    "        path.reverse()\n",
    "        \n",
    "        return path"
   ]
  },
  {
   "cell_type": "code",
   "execution_count": 3,
   "id": "d709ba66",
   "metadata": {
    "execution": {
     "iopub.execute_input": "2024-11-14T06:53:06.673851Z",
     "iopub.status.busy": "2024-11-14T06:53:06.672781Z",
     "iopub.status.idle": "2024-11-14T06:53:06.681911Z",
     "shell.execute_reply": "2024-11-14T06:53:06.680815Z"
    },
    "papermill": {
     "duration": 0.015298,
     "end_time": "2024-11-14T06:53:06.684353",
     "exception": false,
     "start_time": "2024-11-14T06:53:06.669055",
     "status": "completed"
    },
    "tags": []
   },
   "outputs": [
    {
     "name": "stdout",
     "output_type": "stream",
     "text": [
      "Path found: ['A', 'B', 'D'] with total cost: 6\n"
     ]
    }
   ],
   "source": [
    "def main():\n",
    "    \n",
    "    # Let's look at an example with the following weighted graph:\n",
    "    \n",
    "    adjacency_list = {\n",
    "    'A': [('B', 1), ('C', 3), ('D', 7)],\n",
    "    'B': [('D', 5), ('E', 2)],\n",
    "    'C': [('D', 12)],\n",
    "    'D': [('E', 2)],\n",
    "    'E': []\n",
    "    }\n",
    "\n",
    "    heuristic = {\n",
    "    'A': 7,\n",
    "    'B': 6,\n",
    "    'C': 2,\n",
    "    'D': 1,\n",
    "    'E': 0  # Assuming E is the goal node\n",
    "    }\n",
    "    \n",
    "    graph = Graph(adjacency_list, heuristic)\n",
    "    graph.a_star('A', 'D')\n",
    "\n",
    "if __name__ == '__main__':\n",
    "    main()"
   ]
  }
 ],
 "metadata": {
  "kaggle": {
   "accelerator": "none",
   "dataSources": [
    {
     "isSourceIdPinned": true,
     "modelId": 141151,
     "modelInstanceId": 117916,
     "sourceId": 139248,
     "sourceType": "modelInstanceVersion"
    }
   ],
   "dockerImageVersionId": 30786,
   "isGpuEnabled": false,
   "isInternetEnabled": true,
   "language": "python",
   "sourceType": "notebook"
  },
  "kernelspec": {
   "display_name": "Python 3",
   "language": "python",
   "name": "python3"
  },
  "language_info": {
   "codemirror_mode": {
    "name": "ipython",
    "version": 3
   },
   "file_extension": ".py",
   "mimetype": "text/x-python",
   "name": "python",
   "nbconvert_exporter": "python",
   "pygments_lexer": "ipython3",
   "version": "3.10.14"
  },
  "papermill": {
   "default_parameters": {},
   "duration": 3.342858,
   "end_time": "2024-11-14T06:53:07.006966",
   "environment_variables": {},
   "exception": null,
   "input_path": "__notebook__.ipynb",
   "output_path": "__notebook__.ipynb",
   "parameters": {},
   "start_time": "2024-11-14T06:53:03.664108",
   "version": "2.6.0"
  }
 },
 "nbformat": 4,
 "nbformat_minor": 5
}
